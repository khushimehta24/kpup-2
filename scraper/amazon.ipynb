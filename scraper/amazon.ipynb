{
 "cells": [
  {
   "cell_type": "code",
   "execution_count": 2,
   "id": "251be6f6",
   "metadata": {},
   "outputs": [],
   "source": [
    "import requests\n",
    "from bs4 import BeautifulSoup\n",
    "import pandas as pd"
   ]
  },
  {
   "cell_type": "code",
   "execution_count": 17,
   "id": "96a0fb73",
   "metadata": {},
   "outputs": [],
   "source": [
    "url =\"https://www.amazon.in/gp/bestsellers/\"\n"
   ]
  },
  {
   "cell_type": "code",
   "execution_count": 28,
   "id": "b2744483",
   "metadata": {},
   "outputs": [],
   "source": [
    "HEADERS ={\n",
    "    \"User-Agent\":\"Mozilla/5.0 (Windows NT 10.0; Win64; x64; rv:66.0) Gecko/20100101 Firefox/66.0\", \n",
    "    \"Accept-Encoding\":\"gzip, deflate\", \n",
    "    \"Accept\":\"text/html,application/xhtml+xml,application/xml;q=0.9,*/*;q=0.8\", \n",
    "    \"DNT\":\"1\",\n",
    "    \"Connection\":\"close\", \n",
    "    \"Upgrade-Insecure-Requests\":\"1\"}\n",
    "\n",
    "proxies = {\"http\": \"http://aws.amazon.com/\",\n",
    "           \"https\": \"http://www.atlassian.com/\"}"
   ]
  },
  {
   "cell_type": "code",
   "execution_count": 29,
   "id": "1e512879",
   "metadata": {},
   "outputs": [
    {
     "ename": "ProxyError",
     "evalue": "HTTPSConnectionPool(host='www.amazon.in', port=443): Max retries exceeded with url: /gp/bestsellers/ (Caused by ProxyError('Cannot connect to proxy.', OSError('Tunnel connection failed: 426 Upgrade Required')))",
     "output_type": "error",
     "traceback": [
      "\u001b[1;31m---------------------------------------------------------------------------\u001b[0m",
      "\u001b[1;31mOSError\u001b[0m                                   Traceback (most recent call last)",
      "\u001b[1;32mc:\\users\\91992\\appdata\\local\\programs\\python\\python39\\lib\\site-packages\\urllib3\\connectionpool.py\u001b[0m in \u001b[0;36murlopen\u001b[1;34m(self, method, url, body, headers, retries, redirect, assert_same_host, timeout, pool_timeout, release_conn, chunked, body_pos, **response_kw)\u001b[0m\n\u001b[0;32m    699\u001b[0m             \u001b[1;32mif\u001b[0m \u001b[0mis_new_proxy_conn\u001b[0m \u001b[1;32mand\u001b[0m \u001b[0mhttp_tunnel_required\u001b[0m\u001b[1;33m:\u001b[0m\u001b[1;33m\u001b[0m\u001b[1;33m\u001b[0m\u001b[0m\n\u001b[1;32m--> 700\u001b[1;33m                 \u001b[0mself\u001b[0m\u001b[1;33m.\u001b[0m\u001b[0m_prepare_proxy\u001b[0m\u001b[1;33m(\u001b[0m\u001b[0mconn\u001b[0m\u001b[1;33m)\u001b[0m\u001b[1;33m\u001b[0m\u001b[1;33m\u001b[0m\u001b[0m\n\u001b[0m\u001b[0;32m    701\u001b[0m \u001b[1;33m\u001b[0m\u001b[0m\n",
      "\u001b[1;32mc:\\users\\91992\\appdata\\local\\programs\\python\\python39\\lib\\site-packages\\urllib3\\connectionpool.py\u001b[0m in \u001b[0;36m_prepare_proxy\u001b[1;34m(self, conn)\u001b[0m\n\u001b[0;32m    993\u001b[0m \u001b[1;33m\u001b[0m\u001b[0m\n\u001b[1;32m--> 994\u001b[1;33m         \u001b[0mconn\u001b[0m\u001b[1;33m.\u001b[0m\u001b[0mconnect\u001b[0m\u001b[1;33m(\u001b[0m\u001b[1;33m)\u001b[0m\u001b[1;33m\u001b[0m\u001b[1;33m\u001b[0m\u001b[0m\n\u001b[0m\u001b[0;32m    995\u001b[0m \u001b[1;33m\u001b[0m\u001b[0m\n",
      "\u001b[1;32mc:\\users\\91992\\appdata\\local\\programs\\python\\python39\\lib\\site-packages\\urllib3\\connection.py\u001b[0m in \u001b[0;36mconnect\u001b[1;34m(self)\u001b[0m\n\u001b[0;32m    370\u001b[0m             \u001b[1;31m# self._tunnel_host below.\u001b[0m\u001b[1;33m\u001b[0m\u001b[1;33m\u001b[0m\u001b[1;33m\u001b[0m\u001b[0m\n\u001b[1;32m--> 371\u001b[1;33m             \u001b[0mself\u001b[0m\u001b[1;33m.\u001b[0m\u001b[0m_tunnel\u001b[0m\u001b[1;33m(\u001b[0m\u001b[1;33m)\u001b[0m\u001b[1;33m\u001b[0m\u001b[1;33m\u001b[0m\u001b[0m\n\u001b[0m\u001b[0;32m    372\u001b[0m             \u001b[1;31m# Mark this connection as not reusable\u001b[0m\u001b[1;33m\u001b[0m\u001b[1;33m\u001b[0m\u001b[1;33m\u001b[0m\u001b[0m\n",
      "\u001b[1;32mc:\\users\\91992\\appdata\\local\\programs\\python\\python39\\lib\\http\\client.py\u001b[0m in \u001b[0;36m_tunnel\u001b[1;34m(self)\u001b[0m\n\u001b[0;32m    902\u001b[0m             \u001b[0mself\u001b[0m\u001b[1;33m.\u001b[0m\u001b[0mclose\u001b[0m\u001b[1;33m(\u001b[0m\u001b[1;33m)\u001b[0m\u001b[1;33m\u001b[0m\u001b[1;33m\u001b[0m\u001b[0m\n\u001b[1;32m--> 903\u001b[1;33m             \u001b[1;32mraise\u001b[0m \u001b[0mOSError\u001b[0m\u001b[1;33m(\u001b[0m\u001b[1;34mf\"Tunnel connection failed: {code} {message.strip()}\"\u001b[0m\u001b[1;33m)\u001b[0m\u001b[1;33m\u001b[0m\u001b[1;33m\u001b[0m\u001b[0m\n\u001b[0m\u001b[0;32m    904\u001b[0m         \u001b[1;32mwhile\u001b[0m \u001b[1;32mTrue\u001b[0m\u001b[1;33m:\u001b[0m\u001b[1;33m\u001b[0m\u001b[1;33m\u001b[0m\u001b[0m\n",
      "\u001b[1;31mOSError\u001b[0m: Tunnel connection failed: 426 Upgrade Required",
      "\nDuring handling of the above exception, another exception occurred:\n",
      "\u001b[1;31mMaxRetryError\u001b[0m                             Traceback (most recent call last)",
      "\u001b[1;32mc:\\users\\91992\\appdata\\local\\programs\\python\\python39\\lib\\site-packages\\requests\\adapters.py\u001b[0m in \u001b[0;36msend\u001b[1;34m(self, request, stream, timeout, verify, cert, proxies)\u001b[0m\n\u001b[0;32m    439\u001b[0m             \u001b[1;32mif\u001b[0m \u001b[1;32mnot\u001b[0m \u001b[0mchunked\u001b[0m\u001b[1;33m:\u001b[0m\u001b[1;33m\u001b[0m\u001b[1;33m\u001b[0m\u001b[0m\n\u001b[1;32m--> 440\u001b[1;33m                 resp = conn.urlopen(\n\u001b[0m\u001b[0;32m    441\u001b[0m                     \u001b[0mmethod\u001b[0m\u001b[1;33m=\u001b[0m\u001b[0mrequest\u001b[0m\u001b[1;33m.\u001b[0m\u001b[0mmethod\u001b[0m\u001b[1;33m,\u001b[0m\u001b[1;33m\u001b[0m\u001b[1;33m\u001b[0m\u001b[0m\n",
      "\u001b[1;32mc:\\users\\91992\\appdata\\local\\programs\\python\\python39\\lib\\site-packages\\urllib3\\connectionpool.py\u001b[0m in \u001b[0;36murlopen\u001b[1;34m(self, method, url, body, headers, retries, redirect, assert_same_host, timeout, pool_timeout, release_conn, chunked, body_pos, **response_kw)\u001b[0m\n\u001b[0;32m    784\u001b[0m \u001b[1;33m\u001b[0m\u001b[0m\n\u001b[1;32m--> 785\u001b[1;33m             retries = retries.increment(\n\u001b[0m\u001b[0;32m    786\u001b[0m                 \u001b[0mmethod\u001b[0m\u001b[1;33m,\u001b[0m \u001b[0murl\u001b[0m\u001b[1;33m,\u001b[0m \u001b[0merror\u001b[0m\u001b[1;33m=\u001b[0m\u001b[0me\u001b[0m\u001b[1;33m,\u001b[0m \u001b[0m_pool\u001b[0m\u001b[1;33m=\u001b[0m\u001b[0mself\u001b[0m\u001b[1;33m,\u001b[0m \u001b[0m_stacktrace\u001b[0m\u001b[1;33m=\u001b[0m\u001b[0msys\u001b[0m\u001b[1;33m.\u001b[0m\u001b[0mexc_info\u001b[0m\u001b[1;33m(\u001b[0m\u001b[1;33m)\u001b[0m\u001b[1;33m[\u001b[0m\u001b[1;36m2\u001b[0m\u001b[1;33m]\u001b[0m\u001b[1;33m\u001b[0m\u001b[1;33m\u001b[0m\u001b[0m\n",
      "\u001b[1;32mc:\\users\\91992\\appdata\\local\\programs\\python\\python39\\lib\\site-packages\\urllib3\\util\\retry.py\u001b[0m in \u001b[0;36mincrement\u001b[1;34m(self, method, url, response, error, _pool, _stacktrace)\u001b[0m\n\u001b[0;32m    591\u001b[0m         \u001b[1;32mif\u001b[0m \u001b[0mnew_retry\u001b[0m\u001b[1;33m.\u001b[0m\u001b[0mis_exhausted\u001b[0m\u001b[1;33m(\u001b[0m\u001b[1;33m)\u001b[0m\u001b[1;33m:\u001b[0m\u001b[1;33m\u001b[0m\u001b[1;33m\u001b[0m\u001b[0m\n\u001b[1;32m--> 592\u001b[1;33m             \u001b[1;32mraise\u001b[0m \u001b[0mMaxRetryError\u001b[0m\u001b[1;33m(\u001b[0m\u001b[0m_pool\u001b[0m\u001b[1;33m,\u001b[0m \u001b[0murl\u001b[0m\u001b[1;33m,\u001b[0m \u001b[0merror\u001b[0m \u001b[1;32mor\u001b[0m \u001b[0mResponseError\u001b[0m\u001b[1;33m(\u001b[0m\u001b[0mcause\u001b[0m\u001b[1;33m)\u001b[0m\u001b[1;33m)\u001b[0m\u001b[1;33m\u001b[0m\u001b[1;33m\u001b[0m\u001b[0m\n\u001b[0m\u001b[0;32m    593\u001b[0m \u001b[1;33m\u001b[0m\u001b[0m\n",
      "\u001b[1;31mMaxRetryError\u001b[0m: HTTPSConnectionPool(host='www.amazon.in', port=443): Max retries exceeded with url: /gp/bestsellers/ (Caused by ProxyError('Cannot connect to proxy.', OSError('Tunnel connection failed: 426 Upgrade Required')))",
      "\nDuring handling of the above exception, another exception occurred:\n",
      "\u001b[1;31mProxyError\u001b[0m                                Traceback (most recent call last)",
      "\u001b[1;32m~\\AppData\\Local\\Temp/ipykernel_27604/2638456673.py\u001b[0m in \u001b[0;36m<module>\u001b[1;34m\u001b[0m\n\u001b[1;32m----> 1\u001b[1;33m \u001b[0mr\u001b[0m \u001b[1;33m=\u001b[0m \u001b[0mrequests\u001b[0m\u001b[1;33m.\u001b[0m\u001b[0mget\u001b[0m\u001b[1;33m(\u001b[0m\u001b[0murl\u001b[0m\u001b[1;33m,\u001b[0m \u001b[0mheaders\u001b[0m\u001b[1;33m=\u001b[0m\u001b[0mHEADERS\u001b[0m\u001b[1;33m,\u001b[0m \u001b[0mproxies\u001b[0m \u001b[1;33m=\u001b[0m \u001b[0mproxies\u001b[0m\u001b[1;33m)\u001b[0m\u001b[1;33m\u001b[0m\u001b[1;33m\u001b[0m\u001b[0m\n\u001b[0m\u001b[0;32m      2\u001b[0m \u001b[0mhtmlContent\u001b[0m \u001b[1;33m=\u001b[0m \u001b[0mr\u001b[0m\u001b[1;33m.\u001b[0m\u001b[0mcontent\u001b[0m\u001b[1;33m\u001b[0m\u001b[1;33m\u001b[0m\u001b[0m\n\u001b[0;32m      3\u001b[0m \u001b[0msoup\u001b[0m \u001b[1;33m=\u001b[0m \u001b[0mBeautifulSoup\u001b[0m\u001b[1;33m(\u001b[0m\u001b[0mhtmlContent\u001b[0m\u001b[1;33m,\u001b[0m \u001b[0mfeatures\u001b[0m\u001b[1;33m=\u001b[0m\u001b[1;34m'html.parser'\u001b[0m\u001b[1;33m)\u001b[0m\u001b[1;33m\u001b[0m\u001b[1;33m\u001b[0m\u001b[0m\n",
      "\u001b[1;32mc:\\users\\91992\\appdata\\local\\programs\\python\\python39\\lib\\site-packages\\requests\\api.py\u001b[0m in \u001b[0;36mget\u001b[1;34m(url, params, **kwargs)\u001b[0m\n\u001b[0;32m     73\u001b[0m     \"\"\"\n\u001b[0;32m     74\u001b[0m \u001b[1;33m\u001b[0m\u001b[0m\n\u001b[1;32m---> 75\u001b[1;33m     \u001b[1;32mreturn\u001b[0m \u001b[0mrequest\u001b[0m\u001b[1;33m(\u001b[0m\u001b[1;34m'get'\u001b[0m\u001b[1;33m,\u001b[0m \u001b[0murl\u001b[0m\u001b[1;33m,\u001b[0m \u001b[0mparams\u001b[0m\u001b[1;33m=\u001b[0m\u001b[0mparams\u001b[0m\u001b[1;33m,\u001b[0m \u001b[1;33m**\u001b[0m\u001b[0mkwargs\u001b[0m\u001b[1;33m)\u001b[0m\u001b[1;33m\u001b[0m\u001b[1;33m\u001b[0m\u001b[0m\n\u001b[0m\u001b[0;32m     76\u001b[0m \u001b[1;33m\u001b[0m\u001b[0m\n\u001b[0;32m     77\u001b[0m \u001b[1;33m\u001b[0m\u001b[0m\n",
      "\u001b[1;32mc:\\users\\91992\\appdata\\local\\programs\\python\\python39\\lib\\site-packages\\requests\\api.py\u001b[0m in \u001b[0;36mrequest\u001b[1;34m(method, url, **kwargs)\u001b[0m\n\u001b[0;32m     59\u001b[0m     \u001b[1;31m# cases, and look like a memory leak in others.\u001b[0m\u001b[1;33m\u001b[0m\u001b[1;33m\u001b[0m\u001b[1;33m\u001b[0m\u001b[0m\n\u001b[0;32m     60\u001b[0m     \u001b[1;32mwith\u001b[0m \u001b[0msessions\u001b[0m\u001b[1;33m.\u001b[0m\u001b[0mSession\u001b[0m\u001b[1;33m(\u001b[0m\u001b[1;33m)\u001b[0m \u001b[1;32mas\u001b[0m \u001b[0msession\u001b[0m\u001b[1;33m:\u001b[0m\u001b[1;33m\u001b[0m\u001b[1;33m\u001b[0m\u001b[0m\n\u001b[1;32m---> 61\u001b[1;33m         \u001b[1;32mreturn\u001b[0m \u001b[0msession\u001b[0m\u001b[1;33m.\u001b[0m\u001b[0mrequest\u001b[0m\u001b[1;33m(\u001b[0m\u001b[0mmethod\u001b[0m\u001b[1;33m=\u001b[0m\u001b[0mmethod\u001b[0m\u001b[1;33m,\u001b[0m \u001b[0murl\u001b[0m\u001b[1;33m=\u001b[0m\u001b[0murl\u001b[0m\u001b[1;33m,\u001b[0m \u001b[1;33m**\u001b[0m\u001b[0mkwargs\u001b[0m\u001b[1;33m)\u001b[0m\u001b[1;33m\u001b[0m\u001b[1;33m\u001b[0m\u001b[0m\n\u001b[0m\u001b[0;32m     62\u001b[0m \u001b[1;33m\u001b[0m\u001b[0m\n\u001b[0;32m     63\u001b[0m \u001b[1;33m\u001b[0m\u001b[0m\n",
      "\u001b[1;32mc:\\users\\91992\\appdata\\local\\programs\\python\\python39\\lib\\site-packages\\requests\\sessions.py\u001b[0m in \u001b[0;36mrequest\u001b[1;34m(self, method, url, params, data, headers, cookies, files, auth, timeout, allow_redirects, proxies, hooks, stream, verify, cert, json)\u001b[0m\n\u001b[0;32m    527\u001b[0m         }\n\u001b[0;32m    528\u001b[0m         \u001b[0msend_kwargs\u001b[0m\u001b[1;33m.\u001b[0m\u001b[0mupdate\u001b[0m\u001b[1;33m(\u001b[0m\u001b[0msettings\u001b[0m\u001b[1;33m)\u001b[0m\u001b[1;33m\u001b[0m\u001b[1;33m\u001b[0m\u001b[0m\n\u001b[1;32m--> 529\u001b[1;33m         \u001b[0mresp\u001b[0m \u001b[1;33m=\u001b[0m \u001b[0mself\u001b[0m\u001b[1;33m.\u001b[0m\u001b[0msend\u001b[0m\u001b[1;33m(\u001b[0m\u001b[0mprep\u001b[0m\u001b[1;33m,\u001b[0m \u001b[1;33m**\u001b[0m\u001b[0msend_kwargs\u001b[0m\u001b[1;33m)\u001b[0m\u001b[1;33m\u001b[0m\u001b[1;33m\u001b[0m\u001b[0m\n\u001b[0m\u001b[0;32m    530\u001b[0m \u001b[1;33m\u001b[0m\u001b[0m\n\u001b[0;32m    531\u001b[0m         \u001b[1;32mreturn\u001b[0m \u001b[0mresp\u001b[0m\u001b[1;33m\u001b[0m\u001b[1;33m\u001b[0m\u001b[0m\n",
      "\u001b[1;32mc:\\users\\91992\\appdata\\local\\programs\\python\\python39\\lib\\site-packages\\requests\\sessions.py\u001b[0m in \u001b[0;36msend\u001b[1;34m(self, request, **kwargs)\u001b[0m\n\u001b[0;32m    643\u001b[0m \u001b[1;33m\u001b[0m\u001b[0m\n\u001b[0;32m    644\u001b[0m         \u001b[1;31m# Send the request\u001b[0m\u001b[1;33m\u001b[0m\u001b[1;33m\u001b[0m\u001b[1;33m\u001b[0m\u001b[0m\n\u001b[1;32m--> 645\u001b[1;33m         \u001b[0mr\u001b[0m \u001b[1;33m=\u001b[0m \u001b[0madapter\u001b[0m\u001b[1;33m.\u001b[0m\u001b[0msend\u001b[0m\u001b[1;33m(\u001b[0m\u001b[0mrequest\u001b[0m\u001b[1;33m,\u001b[0m \u001b[1;33m**\u001b[0m\u001b[0mkwargs\u001b[0m\u001b[1;33m)\u001b[0m\u001b[1;33m\u001b[0m\u001b[1;33m\u001b[0m\u001b[0m\n\u001b[0m\u001b[0;32m    646\u001b[0m \u001b[1;33m\u001b[0m\u001b[0m\n\u001b[0;32m    647\u001b[0m         \u001b[1;31m# Total elapsed time of the request (approximately)\u001b[0m\u001b[1;33m\u001b[0m\u001b[1;33m\u001b[0m\u001b[1;33m\u001b[0m\u001b[0m\n",
      "\u001b[1;32mc:\\users\\91992\\appdata\\local\\programs\\python\\python39\\lib\\site-packages\\requests\\adapters.py\u001b[0m in \u001b[0;36msend\u001b[1;34m(self, request, stream, timeout, verify, cert, proxies)\u001b[0m\n\u001b[0;32m    511\u001b[0m \u001b[1;33m\u001b[0m\u001b[0m\n\u001b[0;32m    512\u001b[0m             \u001b[1;32mif\u001b[0m \u001b[0misinstance\u001b[0m\u001b[1;33m(\u001b[0m\u001b[0me\u001b[0m\u001b[1;33m.\u001b[0m\u001b[0mreason\u001b[0m\u001b[1;33m,\u001b[0m \u001b[0m_ProxyError\u001b[0m\u001b[1;33m)\u001b[0m\u001b[1;33m:\u001b[0m\u001b[1;33m\u001b[0m\u001b[1;33m\u001b[0m\u001b[0m\n\u001b[1;32m--> 513\u001b[1;33m                 \u001b[1;32mraise\u001b[0m \u001b[0mProxyError\u001b[0m\u001b[1;33m(\u001b[0m\u001b[0me\u001b[0m\u001b[1;33m,\u001b[0m \u001b[0mrequest\u001b[0m\u001b[1;33m=\u001b[0m\u001b[0mrequest\u001b[0m\u001b[1;33m)\u001b[0m\u001b[1;33m\u001b[0m\u001b[1;33m\u001b[0m\u001b[0m\n\u001b[0m\u001b[0;32m    514\u001b[0m \u001b[1;33m\u001b[0m\u001b[0m\n\u001b[0;32m    515\u001b[0m             \u001b[1;32mif\u001b[0m \u001b[0misinstance\u001b[0m\u001b[1;33m(\u001b[0m\u001b[0me\u001b[0m\u001b[1;33m.\u001b[0m\u001b[0mreason\u001b[0m\u001b[1;33m,\u001b[0m \u001b[0m_SSLError\u001b[0m\u001b[1;33m)\u001b[0m\u001b[1;33m:\u001b[0m\u001b[1;33m\u001b[0m\u001b[1;33m\u001b[0m\u001b[0m\n",
      "\u001b[1;31mProxyError\u001b[0m: HTTPSConnectionPool(host='www.amazon.in', port=443): Max retries exceeded with url: /gp/bestsellers/ (Caused by ProxyError('Cannot connect to proxy.', OSError('Tunnel connection failed: 426 Upgrade Required')))"
     ]
    }
   ],
   "source": [
    "r = requests.get(url, headers=HEADERS, proxies = proxies)\n",
    "htmlContent = r.content\n",
    "soup = BeautifulSoup(htmlContent, features='html.parser')"
   ]
  },
  {
   "cell_type": "code",
   "execution_count": 20,
   "id": "c1e015d7",
   "metadata": {},
   "outputs": [],
   "source": [
    "doc = soup.find_all(\"div\",{\"class\":\"_p13n-zg-nav-tree-all_style_zg-browse-item__1rdKf _p13n-zg-nav-tree-all_style_zg-browse-height-small__nleKL\"})\n",
    "depts = []\n",
    "for i in doc:\n",
    "    depts.append(['https://www.amazon.in'+i.find('a')['href'], i.get_text()])"
   ]
  },
  {
   "cell_type": "code",
   "execution_count": 7,
   "id": "c32e3558",
   "metadata": {},
   "outputs": [],
   "source": [
    "url1 = \"https://www.amazon.in/gp/bestsellers/music/ref=zg_bs_nav_0\"\n",
    "r1 = requests.get(url1, headers=HEADERS)\n",
    "htmlContent1 = r1.content\n",
    "soup1 = BeautifulSoup(htmlContent1, features='html.parser')"
   ]
  },
  {
   "cell_type": "code",
   "execution_count": 8,
   "id": "375ab64a",
   "metadata": {},
   "outputs": [],
   "source": [
    "doc1 = soup1.find_all(\"div\",{\"class\":\"a-column a-span12 a-text-center _cDEzb_grid-column_2hIsc\"})\n",
    "items = []\n",
    "for i in doc1[:5]:\n",
    "    items.append(['https://www.amazon.in'+i.find_all('a')[0]['href'], i.find_all('a')[1].get_text(), i.find_all('a')[3].get_text()])"
   ]
  },
  {
   "cell_type": "code",
   "execution_count": 15,
   "id": "4df33514",
   "metadata": {},
   "outputs": [
    {
     "name": "stdout",
     "output_type": "stream",
     "text": [
      "Amazon Renewed not executed\n",
      "Movies & TV Shows not executed\n"
     ]
    },
    {
     "data": {
      "text/plain": [
       "31274.024963378906"
      ]
     },
     "execution_count": 15,
     "metadata": {},
     "output_type": "execute_result"
    }
   ],
   "source": [
    "import time\n",
    "start = time.time()\n",
    "content = {}\n",
    "for i in depts:\n",
    "    try:\n",
    "        url1 = i[0]\n",
    "        r1 = requests.get(url1, headers=HEADERS)\n",
    "        htmlContent1 = r1.content\n",
    "        soup1 = BeautifulSoup(htmlContent1, features='html.parser')\n",
    "        doc1 = soup1.find_all(\"div\",{\"class\":\"a-column a-span12 a-text-center _cDEzb_grid-column_2hIsc\"})\n",
    "        items = []\n",
    "        for j in doc1[:5]:\n",
    "            items.append({'link':'https://www.amazon.in'+j.find_all('a')[0]['href'], \n",
    "                          'name':j.find_all('a')[1].get_text(), \n",
    "                          'price':j.find_all('a')[3].get_text(), \n",
    "                          'img':j.find('img')['src']})\n",
    "        content[i[1]] = items\n",
    "    except:\n",
    "        print(i[1]+' not executed')\n",
    "        pass\n",
    "\n",
    "end = time.time()\n",
    "exec = (end-start)*1000\n",
    "exec"
   ]
  },
  {
   "cell_type": "code",
   "execution_count": 12,
   "id": "c0b68a9f",
   "metadata": {},
   "outputs": [
    {
     "data": {
      "text/plain": [
       "{'Amazon Launchpad': [{'link': 'https://www.amazon.in/Avimee-Keshpallav-Reduces-dandruff-Promotes/dp/B0B6W5KCRM/ref=zg_bs_boost_sccl_1/260-0404130-8608635?psc=1',\n",
       "   'name': 'Avimee Herbal Keshpallav Hair Oil for Men and Women | Reduces Hair fall & dandruff | Promotes Hair Growth | 100 ML',\n",
       "   'price': '₹495.00',\n",
       "   'img': 'https://images-eu.ssl-images-amazon.com/images/I/71wLE4HgSLL._AC_UL300_SR300,200_.jpg'},\n",
       "  {'link': 'https://www.amazon.in/Mamaearth-Natural-Turmeric-Saffron-brightning/dp/B07FPV716J/ref=zg_bs_boost_sccl_2/260-0404130-8608635?psc=1',\n",
       "   'name': 'Mamaearth Ubtan Natural Face Wash for All Skin Type with Turmeric & Saffron for Tan removal and Skin brightning 100 ml - SLS & Paraben Free',\n",
       "   'price': '₹236.00',\n",
       "   'img': 'https://images-eu.ssl-images-amazon.com/images/I/51hwUO-kAqL._AC_UL300_SR300,200_.jpg'},\n",
       "  {'link': 'https://www.amazon.in/Be-Bodywise-Supplements-Strawberry-Multivitamins/dp/B092ZXX7XP/ref=zg_bs_boost_sccl_3/260-0404130-8608635?psc=1',\n",
       "   'name': 'Be Bodywise Biotin Hair Gummies for Stronger, Shinier Hair & Nails | 60 Day Pack | With High Potency Biotin, Zinc, Folic Acid & Multivitamins | Strawberry Flavored | No Added Sugar | 60 Gummies',\n",
       "   'price': '₹953.00',\n",
       "   'img': 'https://images-eu.ssl-images-amazon.com/images/I/71IRotZcFyL._AC_UL300_SR300,200_.jpg'},\n",
       "  {'link': 'https://www.amazon.in/Avimee-Herbal-Keshpallav-Hairtone-Control/dp/B0BH4BV1VL/ref=zg_bs_boost_sccl_4/260-0404130-8608635?psc=1',\n",
       "   'name': 'Avimee Herbal Keshpallav Hair Oil (100 ml) & Hairtone PV 1 Scalp Spray (100 ml) Combo Pack | Hair Fall Control Kit | Super Saver Combo',\n",
       "   'price': '₹1,100.00',\n",
       "   'img': 'https://images-eu.ssl-images-amazon.com/images/I/71+k1nNg3KL._AC_UL300_SR300,200_.jpg'},\n",
       "  {'link': 'https://www.amazon.in/Avimee-Herbal-Promotes-Growth-Reduces/dp/B0BBFMV3KJ/ref=zg_bs_boost_sccl_5/260-0404130-8608635?psc=1',\n",
       "   'name': 'Avimee Herbal Hair tone PV 1 Scalp Spray for All Hair Types | Promotes Hair Growth | Reduces Hair Fall | 100 ML',\n",
       "   'price': '₹550.00',\n",
       "   'img': 'https://images-eu.ssl-images-amazon.com/images/I/71bDUmdaNiL._AC_UL300_SR300,200_.jpg'}],\n",
       " 'Apps for Android': [{'link': 'https://www.amazon.in/NeoYantra-Technologies-AirPlayMirror-Receiver/dp/B06VWV5SKS/ref=zg_bs_mobile-apps_sccl_1/261-8736199-1050853?psc=1',\n",
       "   'name': 'AirPlayMirror Receiver',\n",
       "   'price': '1 offer from ₹149.00',\n",
       "   'img': 'https://images-eu.ssl-images-amazon.com/images/I/6156ASSD1XL._AC_UL300_SR300,200_.png'},\n",
       "  {'link': 'https://www.amazon.in/Control-Lite-Sticks-Remote-without/dp/B09ML2GCMD/ref=zg_bs_mobile-apps_sccl_2/261-8736199-1050853?psc=1',\n",
       "   'name': \"Volume Control for Lite | Control TV Volume from Stick's Remote without IR\",\n",
       "   'price': '1 offer from ₹99.00',\n",
       "   'img': 'https://images-eu.ssl-images-amazon.com/images/I/41LUoh2xccL._AC_UL300_SR300,200_.png'},\n",
       "  {'link': 'https://www.amazon.in/DigitalX-Titanic-Ocean-View/dp/B01N7NF03O/ref=zg_bs_mobile-apps_sccl_3/261-8736199-1050853?psc=1',\n",
       "   'name': 'Titanic Ocean View',\n",
       "   'price': '1 offer from ₹67.65',\n",
       "   'img': 'https://images-eu.ssl-images-amazon.com/images/I/81+DwtaqoxL._AC_UL300_SR300,200_.png'},\n",
       "  {'link': 'https://www.amazon.in/EdgeWay-Moonlight-Ocean-HD/dp/B00NKPEO04/ref=zg_bs_mobile-apps_sccl_4/261-8736199-1050853?psc=1',\n",
       "   'name': 'Moonlight Ocean HD',\n",
       "   'price': '1 offer from ₹140.99',\n",
       "   'img': 'https://images-eu.ssl-images-amazon.com/images/I/81MZfGx9-XL._AC_UL300_SR300,200_.png'},\n",
       "  {'link': 'https://www.amazon.in/pFolio-Google-Photos-and-Slideshows/dp/B004L0NGEC/ref=zg_bs_mobile-apps_sccl_5/261-8736199-1050853?psc=1',\n",
       "   'name': 'pixFolio - Google Photos and Slideshows',\n",
       "   'price': '1 offer from ₹299.00',\n",
       "   'img': 'https://images-eu.ssl-images-amazon.com/images/I/21TiJp0MveL._AC_UL300_SR300,200_.png'}],\n",
       " 'Baby Products': [{'link': 'https://www.amazon.in/Pampers-New-Diapers-Pants-Count/dp/B07CXGJKXL/ref=zg_bs_baby_sccl_1/262-3112872-3458901?psc=1',\n",
       "   'name': 'Pampers All round Protection Pants, Extra Large size baby Diapers, (XL) 56 Count Lotion with Aloe Vera',\n",
       "   'price': '₹930.00',\n",
       "   'img': 'https://images-eu.ssl-images-amazon.com/images/I/717vQB-qhiL._AC_UL300_SR300,200_.jpg'},\n",
       "  {'link': 'https://www.amazon.in/Huggies-Wonder-Pants-Diapers-Extra/dp/B07M92GK39/ref=zg_bs_baby_sccl_2/262-3112872-3458901?psc=1',\n",
       "   'name': 'Huggies Complete Comfort Wonder Pants Extra Large (XL) Size Baby Diaper Pants, 56 count, with 5 in 1 Comfort',\n",
       "   'price': '₹779.00',\n",
       "   'img': 'https://images-eu.ssl-images-amazon.com/images/I/612UpYY4pkL._AC_UL300_SR300,200_.jpg'},\n",
       "  {'link': 'https://www.amazon.in/MamyPoko-Pants-Extra-Absorb-L74/dp/B0B8HFSXQX/ref=zg_bs_baby_sccl_3/262-3112872-3458901?psc=1',\n",
       "   'name': 'MamyPoko Pants Extra Absorb L74',\n",
       "   'price': '₹929.00',\n",
       "   'img': 'https://images-eu.ssl-images-amazon.com/images/I/81HthnznZ1L._AC_UL300_SR300,200_.jpg'},\n",
       "  {'link': 'https://www.amazon.in/Littles-Diapers-Wetness-Indicator-Absorption/dp/B08J126QF9/ref=zg_bs_baby_sccl_4/262-3112872-3458901?psc=1',\n",
       "   'name': \"Little's Baby Pants Diapers with Wetness Indicator and 12 Hours Absorption, Large (L), 9-14 kg, 60 Count\",\n",
       "   'price': '₹589.00',\n",
       "   'img': 'https://images-eu.ssl-images-amazon.com/images/I/71yBi+uBajL._AC_UL300_SR300,200_.jpg'},\n",
       "  {'link': 'https://www.amazon.in/Littles-Soft-Cleansing-Baby-Wipes/dp/B088TZC4B6/ref=zg_bs_baby_sccl_5/262-3112872-3458901?psc=1',\n",
       "   'name': \"Little's Soft Cleansing Baby Wipes Lid, 80 Wipes (Pack of 3)\",\n",
       "   'price': '₹235.00',\n",
       "   'img': 'https://images-eu.ssl-images-amazon.com/images/I/61nMikU75ML._AC_UL300_SR300,200_.jpg'}],\n",
       " 'Bags, Wallets and Luggage': [{'link': 'https://www.amazon.in/GLUN-Digital-Electronic-Portable-Weighing/dp/B07PK41FL4/ref=zg_bs_luggage_sccl_1/260-5631610-1406821?psc=1',\n",
       "   'name': 'GLUN Bolt Electronic Portable Fishing Hook Type Digital LED Screen Luggage Weighing Scale, 50 kg/110 Lb (Black)',\n",
       "   'price': '₹274.00',\n",
       "   'img': 'https://images-eu.ssl-images-amazon.com/images/I/61ofVvpW2ZL._AC_UL300_SR300,200_.jpg'},\n",
       "  {'link': 'https://www.amazon.in/WildHorn-Brown-Wallet-WH2052-Crackle/dp/B07C3VH84K/ref=zg_bs_luggage_sccl_2/260-5631610-1406821?psc=1',\n",
       "   'name': 'WildHorn Brown RFID Blocking Leather Wallet for Men I Ultra Strong Stitching I 6 Credit Card Slots I 2 Currency Compartments I 1 Coin Pocket',\n",
       "   'price': '₹299.00',\n",
       "   'img': 'https://images-eu.ssl-images-amazon.com/images/I/81VJhERW2DS._AC_UL300_SR300,200_.jpg'},\n",
       "  {'link': 'https://www.amazon.in/Lavie-Sport-Duffle-Luggage-Trolley/dp/B097RJ22Q3/ref=zg_bs_luggage_sccl_3/260-5631610-1406821?psc=1',\n",
       "   'name': 'Lavie Sport Lino Large Size 63 cms Wheel Duffle Bag for Travel | Travel Bag with Trolley',\n",
       "   'price': '₹999.00',\n",
       "   'img': 'https://images-eu.ssl-images-amazon.com/images/I/71JI8Q3Ln-L._AC_UL300_SR300,200_.jpg'},\n",
       "  {'link': 'https://www.amazon.in/Step-Backpack-Small-Water-Repellant/dp/B088XH1BP7/ref=zg_bs_luggage_sccl_4/260-5631610-1406821?psc=1',\n",
       "   'name': 'Mi Step Out 12 L Mini Backpack (Small Size, Dark Blue, Water Repellant)',\n",
       "   'price': '₹249.00',\n",
       "   'img': 'https://images-eu.ssl-images-amazon.com/images/I/71FRRQKKSSL._AC_UL300_SR300,200_.jpg'},\n",
       "  {'link': 'https://www.amazon.in/American-Tourister-AMT-SCH-02/dp/B07CJCGM1M/ref=zg_bs_luggage_sccl_5/260-5631610-1406821?psc=1',\n",
       "   'name': 'American Tourister 32 Ltrs Black Casual Backpack (AMT FIZZ SCH BAG 02 - BLACK)',\n",
       "   'price': '₹1,299.00',\n",
       "   'img': 'https://images-eu.ssl-images-amazon.com/images/I/81KEKEDFUcL._AC_UL300_SR300,200_.jpg'}]}"
      ]
     },
     "execution_count": 12,
     "metadata": {},
     "output_type": "execute_result"
    }
   ],
   "source": [
    "content"
   ]
  },
  {
   "cell_type": "code",
   "execution_count": 22,
   "id": "c152f3d1",
   "metadata": {},
   "outputs": [
    {
     "data": {
      "text/plain": [
       "[['https://www.amazon.in/gp/bestsellers/boost/ref=zg_bs_nav_0',\n",
       "  'Amazon Launchpad'],\n",
       " ['https://www.amazon.in/gp/bestsellers/amazon-renewed/ref=zg_bs_nav_0',\n",
       "  'Amazon Renewed'],\n",
       " ['https://www.amazon.in/gp/bestsellers/mobile-apps/ref=zg_bs_nav_0',\n",
       "  'Apps for Android'],\n",
       " ['https://www.amazon.in/gp/bestsellers/baby/ref=zg_bs_nav_0',\n",
       "  'Baby Products'],\n",
       " ['https://www.amazon.in/gp/bestsellers/luggage/ref=zg_bs_nav_0',\n",
       "  'Bags, Wallets and Luggage'],\n",
       " ['https://www.amazon.in/gp/bestsellers/beauty/ref=zg_bs_nav_0', 'Beauty'],\n",
       " ['https://www.amazon.in/gp/bestsellers/books/ref=zg_bs_nav_0', 'Books'],\n",
       " ['https://www.amazon.in/gp/bestsellers/automotive/ref=zg_bs_nav_0',\n",
       "  'Car & Motorbike'],\n",
       " ['https://www.amazon.in/gp/bestsellers/apparel/ref=zg_bs_nav_0',\n",
       "  'Clothing & Accessories'],\n",
       " ['https://www.amazon.in/gp/bestsellers/computers/ref=zg_bs_nav_0',\n",
       "  'Computers & Accessories'],\n",
       " ['https://www.amazon.in/gp/bestsellers/electronics/ref=zg_bs_nav_0',\n",
       "  'Electronics'],\n",
       " ['https://www.amazon.in/gp/bestsellers/garden/ref=zg_bs_nav_0',\n",
       "  'Garden & Outdoors'],\n",
       " ['https://www.amazon.in/gp/bestsellers/gift-cards/ref=zg_bs_nav_0',\n",
       "  'Gift Cards'],\n",
       " ['https://www.amazon.in/gp/bestsellers/grocery/ref=zg_bs_nav_0',\n",
       "  'Grocery & Gourmet Foods'],\n",
       " ['https://www.amazon.in/gp/bestsellers/hpc/ref=zg_bs_nav_0',\n",
       "  'Health & Personal Care'],\n",
       " ['https://www.amazon.in/gp/bestsellers/kitchen/ref=zg_bs_nav_0',\n",
       "  'Home & Kitchen'],\n",
       " ['https://www.amazon.in/gp/bestsellers/home-improvement/ref=zg_bs_nav_0',\n",
       "  'Home Improvement'],\n",
       " ['https://www.amazon.in/gp/bestsellers/industrial/ref=zg_bs_nav_0',\n",
       "  'Industrial & Scientific'],\n",
       " ['https://www.amazon.in/gp/bestsellers/jewelry/ref=zg_bs_nav_0', 'Jewellery'],\n",
       " ['https://www.amazon.in/gp/bestsellers/digital-text/ref=zg_bs_nav_0',\n",
       "  'Kindle Store'],\n",
       " ['https://www.amazon.in/gp/bestsellers/dvd/ref=zg_bs_nav_0',\n",
       "  'Movies & TV Shows'],\n",
       " ['https://www.amazon.in/gp/bestsellers/music/ref=zg_bs_nav_0', 'Music'],\n",
       " ['https://www.amazon.in/gp/bestsellers/musical-instruments/ref=zg_bs_nav_0',\n",
       "  'Musical Instruments'],\n",
       " ['https://www.amazon.in/gp/bestsellers/office/ref=zg_bs_nav_0',\n",
       "  'Office Products'],\n",
       " ['https://www.amazon.in/gp/bestsellers/pet-supplies/ref=zg_bs_nav_0',\n",
       "  'Pet Supplies'],\n",
       " ['https://www.amazon.in/gp/bestsellers/shoes/ref=zg_bs_nav_0',\n",
       "  'Shoes & Handbags'],\n",
       " ['https://www.amazon.in/gp/bestsellers/software/ref=zg_bs_nav_0', 'Software'],\n",
       " ['https://www.amazon.in/gp/bestsellers/sports/ref=zg_bs_nav_0',\n",
       "  'Sports, Fitness & Outdoors'],\n",
       " ['https://www.amazon.in/gp/bestsellers/toys/ref=zg_bs_nav_0', 'Toys & Games'],\n",
       " ['https://www.amazon.in/gp/bestsellers/videogames/ref=zg_bs_nav_0',\n",
       "  'Video Games'],\n",
       " ['https://www.amazon.in/gp/bestsellers/watches/ref=zg_bs_nav_0', 'Watches']]"
      ]
     },
     "execution_count": 22,
     "metadata": {},
     "output_type": "execute_result"
    }
   ],
   "source": [
    "depts"
   ]
  },
  {
   "cell_type": "code",
   "execution_count": null,
   "id": "d8ed64f3",
   "metadata": {},
   "outputs": [],
   "source": []
  }
 ],
 "metadata": {
  "kernelspec": {
   "display_name": "Python 3 (ipykernel)",
   "language": "python",
   "name": "python3"
  },
  "language_info": {
   "codemirror_mode": {
    "name": "ipython",
    "version": 3
   },
   "file_extension": ".py",
   "mimetype": "text/x-python",
   "name": "python",
   "nbconvert_exporter": "python",
   "pygments_lexer": "ipython3",
   "version": "3.9.5"
  }
 },
 "nbformat": 4,
 "nbformat_minor": 5
}
